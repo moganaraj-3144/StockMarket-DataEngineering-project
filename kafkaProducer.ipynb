{
 "cells": [
  {
   "cell_type": "code",
   "execution_count": null,
   "id": "7c54f77a-c630-4b66-a255-10a37a7c81d8",
   "metadata": {},
   "outputs": [],
   "source": [
    "pip install kafka-python-ng"
   ]
  },
  {
   "cell_type": "code",
   "execution_count": null,
   "id": "c7e205ea-5ea3-46b2-bd25-588c8285ae62",
   "metadata": {},
   "outputs": [],
   "source": [
    "import pandas as pd\n",
    "from kafka import KafkaProducer\n",
    "from time import sleep\n",
    "from json import dumps\n",
    "import json"
   ]
  },
  {
   "cell_type": "code",
   "execution_count": null,
   "id": "75fea15a-ecc5-45be-a3c5-122044b804ff",
   "metadata": {},
   "outputs": [],
   "source": [
    "producer = KafkaProducer(bootstrap_servers=['18.212.239.170:9092'], #change ip here\n",
    "                         value_serializer=lambda x: dumps(x).encode('utf-8'))"
   ]
  },
  {
   "cell_type": "code",
   "execution_count": null,
   "id": "2a60207c-3dab-4646-b975-236fbc0e3b68",
   "metadata": {},
   "outputs": [],
   "source": [
    "#producer.send('demo_test', value={'text':'hello world'})"
   ]
  },
  {
   "cell_type": "code",
   "execution_count": null,
   "id": "987888d9-a04d-4f29-8500-68bfaeb3a1d6",
   "metadata": {},
   "outputs": [],
   "source": [
    "df = pd.read_csv('sp500-Data.csv')"
   ]
  },
  {
   "cell_type": "code",
   "execution_count": null,
   "id": "9bca522d-cf30-4862-8ee0-ea71457ce235",
   "metadata": {},
   "outputs": [],
   "source": [
    "while True:\n",
    "    records = df.sample(1).to_dict(orient=\"records\")[0]\n",
    "    producer.send('demo_test', value=records)\n",
    "    sleep(2)"
   ]
  },
  {
   "cell_type": "code",
   "execution_count": null,
   "id": "38c58075-cd39-4732-a770-893fc6d93b97",
   "metadata": {},
   "outputs": [],
   "source": [
    "producer.flush() #clear data from kafka server"
   ]
  }
 ],
 "metadata": {
  "kernelspec": {
   "display_name": "Python 3 (ipykernel)",
   "language": "python",
   "name": "python3"
  },
  "language_info": {
   "codemirror_mode": {
    "name": "ipython",
    "version": 3
   },
   "file_extension": ".py",
   "mimetype": "text/x-python",
   "name": "python",
   "nbconvert_exporter": "python",
   "pygments_lexer": "ipython3",
   "version": "3.12.2"
  }
 },
 "nbformat": 4,
 "nbformat_minor": 5
}
